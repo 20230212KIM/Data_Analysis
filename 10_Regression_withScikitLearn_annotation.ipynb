{
  "nbformat": 4,
  "nbformat_minor": 0,
  "metadata": {
    "colab": {
      "name": "scikit_learn.ipynb",
      "provenance": [],
      "include_colab_link": true
    },
    "kernelspec": {
      "name": "python3",
      "display_name": "Python 3"
    },
    "language_info": {
      "name": "python"
    }
  },
  "cells": [
    {
      "cell_type": "markdown",
      "metadata": {
        "id": "view-in-github",
        "colab_type": "text"
      },
      "source": [
        "<a href=\"https://colab.research.google.com/github/20230212KIM/Data_Analysis/blob/main/10_Regression_withScikitLearn_annotation.ipynb\" target=\"_parent\"><img src=\"https://colab.research.google.com/assets/colab-badge.svg\" alt=\"Open In Colab\"/></a>"
      ]
    },
    {
      "cell_type": "markdown",
      "source": [
        "# Scikit-Learn for machine learning\n",
        "\n",
        "## 🌹🌸🌺 Understanding iris data 🌹🌸🌺\n",
        "- This dataset contains measurements of various features of iris flowers, including sepal꽃잎 length, sepal width, petal꽃받침 length, and petal width.\n",
        "- It consists of 150 observations of iris flowers, with 50 observations for each of the three species: <font color = 'purple'> **_🌹setosa, 🌸 versicolor, and 🌺virginica_**</font>.\n",
        "- The dataset is commonly used for tasks such as classification and clustering."
      ],
      "metadata": {
        "id": "IxKzJrcGnYPf"
      }
    },
    {
      "cell_type": "code",
      "execution_count": 1,
      "metadata": {
        "id": "VTckSBPVR8l-"
      },
      "outputs": [],
      "source": [
        "import seaborn as sns\n",
        "df = sns.load_dataset('iris')"
      ]
    },
    {
      "cell_type": "code",
      "source": [
        "type(df)"
      ],
      "metadata": {
        "id": "n0FdeK6lV-74",
        "outputId": "bb24877e-e55a-4e13-920a-8797681f25f4",
        "colab": {
          "base_uri": "https://localhost:8080/",
          "height": 204
        }
      },
      "execution_count": 2,
      "outputs": [
        {
          "output_type": "execute_result",
          "data": {
            "text/plain": [
              "pandas.core.frame.DataFrame"
            ],
            "text/html": [
              "<div style=\"max-width:800px; border: 1px solid var(--colab-border-color);\"><style>\n",
              "      pre.function-repr-contents {\n",
              "        overflow-x: auto;\n",
              "        padding: 8px 12px;\n",
              "        max-height: 500px;\n",
              "      }\n",
              "\n",
              "      pre.function-repr-contents.function-repr-contents-collapsed {\n",
              "        cursor: pointer;\n",
              "        max-height: 100px;\n",
              "      }\n",
              "    </style>\n",
              "    <pre style=\"white-space: initial; background:\n",
              "         var(--colab-secondary-surface-color); padding: 8px 12px;\n",
              "         border-bottom: 1px solid var(--colab-border-color);\"><b>pandas.core.frame.DataFrame</b><br/>def __init__(data=None, index: Axes | None=None, columns: Axes | None=None, dtype: Dtype | None=None, copy: bool | None=None) -&gt; None</pre><pre class=\"function-repr-contents function-repr-contents-collapsed\" style=\"\"><a class=\"filepath\" style=\"display:none\" href=\"#\">/usr/local/lib/python3.10/dist-packages/pandas/core/frame.py</a>Two-dimensional, size-mutable, potentially heterogeneous tabular data.\n",
              "\n",
              "Data structure also contains labeled axes (rows and columns).\n",
              "Arithmetic operations align on both row and column labels. Can be\n",
              "thought of as a dict-like container for Series objects. The primary\n",
              "pandas data structure.\n",
              "\n",
              "Parameters\n",
              "----------\n",
              "data : ndarray (structured or homogeneous), Iterable, dict, or DataFrame\n",
              "    Dict can contain Series, arrays, constants, dataclass or list-like objects. If\n",
              "    data is a dict, column order follows insertion-order. If a dict contains Series\n",
              "    which have an index defined, it is aligned by its index. This alignment also\n",
              "    occurs if data is a Series or a DataFrame itself. Alignment is done on\n",
              "    Series/DataFrame inputs.\n",
              "\n",
              "    If data is a list of dicts, column order follows insertion-order.\n",
              "\n",
              "index : Index or array-like\n",
              "    Index to use for resulting frame. Will default to RangeIndex if\n",
              "    no indexing information part of input data and no index provided.\n",
              "columns : Index or array-like\n",
              "    Column labels to use for resulting frame when data does not have them,\n",
              "    defaulting to RangeIndex(0, 1, 2, ..., n). If data contains column labels,\n",
              "    will perform column selection instead.\n",
              "dtype : dtype, default None\n",
              "    Data type to force. Only a single dtype is allowed. If None, infer.\n",
              "copy : bool or None, default None\n",
              "    Copy data from inputs.\n",
              "    For dict data, the default of None behaves like ``copy=True``.  For DataFrame\n",
              "    or 2d ndarray input, the default of None behaves like ``copy=False``.\n",
              "    If data is a dict containing one or more Series (possibly of different dtypes),\n",
              "    ``copy=False`` will ensure that these inputs are not copied.\n",
              "\n",
              "    .. versionchanged:: 1.3.0\n",
              "\n",
              "See Also\n",
              "--------\n",
              "DataFrame.from_records : Constructor from tuples, also record arrays.\n",
              "DataFrame.from_dict : From dicts of Series, arrays, or dicts.\n",
              "read_csv : Read a comma-separated values (csv) file into DataFrame.\n",
              "read_table : Read general delimited file into DataFrame.\n",
              "read_clipboard : Read text from clipboard into DataFrame.\n",
              "\n",
              "Notes\n",
              "-----\n",
              "Please reference the :ref:`User Guide &lt;basics.dataframe&gt;` for more information.\n",
              "\n",
              "Examples\n",
              "--------\n",
              "Constructing DataFrame from a dictionary.\n",
              "\n",
              "&gt;&gt;&gt; d = {&#x27;col1&#x27;: [1, 2], &#x27;col2&#x27;: [3, 4]}\n",
              "&gt;&gt;&gt; df = pd.DataFrame(data=d)\n",
              "&gt;&gt;&gt; df\n",
              "   col1  col2\n",
              "0     1     3\n",
              "1     2     4\n",
              "\n",
              "Notice that the inferred dtype is int64.\n",
              "\n",
              "&gt;&gt;&gt; df.dtypes\n",
              "col1    int64\n",
              "col2    int64\n",
              "dtype: object\n",
              "\n",
              "To enforce a single dtype:\n",
              "\n",
              "&gt;&gt;&gt; df = pd.DataFrame(data=d, dtype=np.int8)\n",
              "&gt;&gt;&gt; df.dtypes\n",
              "col1    int8\n",
              "col2    int8\n",
              "dtype: object\n",
              "\n",
              "Constructing DataFrame from a dictionary including Series:\n",
              "\n",
              "&gt;&gt;&gt; d = {&#x27;col1&#x27;: [0, 1, 2, 3], &#x27;col2&#x27;: pd.Series([2, 3], index=[2, 3])}\n",
              "&gt;&gt;&gt; pd.DataFrame(data=d, index=[0, 1, 2, 3])\n",
              "   col1  col2\n",
              "0     0   NaN\n",
              "1     1   NaN\n",
              "2     2   2.0\n",
              "3     3   3.0\n",
              "\n",
              "Constructing DataFrame from numpy ndarray:\n",
              "\n",
              "&gt;&gt;&gt; df2 = pd.DataFrame(np.array([[1, 2, 3], [4, 5, 6], [7, 8, 9]]),\n",
              "...                    columns=[&#x27;a&#x27;, &#x27;b&#x27;, &#x27;c&#x27;])\n",
              "&gt;&gt;&gt; df2\n",
              "   a  b  c\n",
              "0  1  2  3\n",
              "1  4  5  6\n",
              "2  7  8  9\n",
              "\n",
              "Constructing DataFrame from a numpy ndarray that has labeled columns:\n",
              "\n",
              "&gt;&gt;&gt; data = np.array([(1, 2, 3), (4, 5, 6), (7, 8, 9)],\n",
              "...                 dtype=[(&quot;a&quot;, &quot;i4&quot;), (&quot;b&quot;, &quot;i4&quot;), (&quot;c&quot;, &quot;i4&quot;)])\n",
              "&gt;&gt;&gt; df3 = pd.DataFrame(data, columns=[&#x27;c&#x27;, &#x27;a&#x27;])\n",
              "...\n",
              "&gt;&gt;&gt; df3\n",
              "   c  a\n",
              "0  3  1\n",
              "1  6  4\n",
              "2  9  7\n",
              "\n",
              "Constructing DataFrame from dataclass:\n",
              "\n",
              "&gt;&gt;&gt; from dataclasses import make_dataclass\n",
              "&gt;&gt;&gt; Point = make_dataclass(&quot;Point&quot;, [(&quot;x&quot;, int), (&quot;y&quot;, int)])\n",
              "&gt;&gt;&gt; pd.DataFrame([Point(0, 0), Point(0, 3), Point(2, 3)])\n",
              "   x  y\n",
              "0  0  0\n",
              "1  0  3\n",
              "2  2  3\n",
              "\n",
              "Constructing DataFrame from Series/DataFrame:\n",
              "\n",
              "&gt;&gt;&gt; ser = pd.Series([1, 2, 3], index=[&quot;a&quot;, &quot;b&quot;, &quot;c&quot;])\n",
              "&gt;&gt;&gt; df = pd.DataFrame(data=ser, index=[&quot;a&quot;, &quot;c&quot;])\n",
              "&gt;&gt;&gt; df\n",
              "   0\n",
              "a  1\n",
              "c  3\n",
              "\n",
              "&gt;&gt;&gt; df1 = pd.DataFrame([1, 2, 3], index=[&quot;a&quot;, &quot;b&quot;, &quot;c&quot;], columns=[&quot;x&quot;])\n",
              "&gt;&gt;&gt; df2 = pd.DataFrame(data=df1, index=[&quot;a&quot;, &quot;c&quot;])\n",
              "&gt;&gt;&gt; df2\n",
              "   x\n",
              "a  1\n",
              "c  3</pre>\n",
              "      <script>\n",
              "      if (google.colab.kernel.accessAllowed && google.colab.files && google.colab.files.view) {\n",
              "        for (const element of document.querySelectorAll('.filepath')) {\n",
              "          element.style.display = 'block'\n",
              "          element.onclick = (event) => {\n",
              "            event.preventDefault();\n",
              "            event.stopPropagation();\n",
              "            google.colab.files.view(element.textContent, 490);\n",
              "          };\n",
              "        }\n",
              "      }\n",
              "      for (const element of document.querySelectorAll('.function-repr-contents')) {\n",
              "        element.onclick = (event) => {\n",
              "          event.preventDefault();\n",
              "          event.stopPropagation();\n",
              "          element.classList.toggle('function-repr-contents-collapsed');\n",
              "        };\n",
              "      }\n",
              "      </script>\n",
              "      </div>"
            ]
          },
          "metadata": {},
          "execution_count": 2
        }
      ]
    },
    {
      "cell_type": "code",
      "source": [
        "df.tail()"
      ],
      "metadata": {
        "id": "CPJe8HrvWDUZ",
        "outputId": "a45245a3-106d-4940-a241-626fa87bb5c1",
        "colab": {
          "base_uri": "https://localhost:8080/",
          "height": 206
        }
      },
      "execution_count": 3,
      "outputs": [
        {
          "output_type": "execute_result",
          "data": {
            "text/plain": [
              "     sepal_length  sepal_width  petal_length  petal_width    species\n",
              "145           6.7          3.0           5.2          2.3  virginica\n",
              "146           6.3          2.5           5.0          1.9  virginica\n",
              "147           6.5          3.0           5.2          2.0  virginica\n",
              "148           6.2          3.4           5.4          2.3  virginica\n",
              "149           5.9          3.0           5.1          1.8  virginica"
            ],
            "text/html": [
              "\n",
              "  <div id=\"df-23eef438-4b02-41ab-94e1-e4ee8879f3b6\" class=\"colab-df-container\">\n",
              "    <div>\n",
              "<style scoped>\n",
              "    .dataframe tbody tr th:only-of-type {\n",
              "        vertical-align: middle;\n",
              "    }\n",
              "\n",
              "    .dataframe tbody tr th {\n",
              "        vertical-align: top;\n",
              "    }\n",
              "\n",
              "    .dataframe thead th {\n",
              "        text-align: right;\n",
              "    }\n",
              "</style>\n",
              "<table border=\"1\" class=\"dataframe\">\n",
              "  <thead>\n",
              "    <tr style=\"text-align: right;\">\n",
              "      <th></th>\n",
              "      <th>sepal_length</th>\n",
              "      <th>sepal_width</th>\n",
              "      <th>petal_length</th>\n",
              "      <th>petal_width</th>\n",
              "      <th>species</th>\n",
              "    </tr>\n",
              "  </thead>\n",
              "  <tbody>\n",
              "    <tr>\n",
              "      <th>145</th>\n",
              "      <td>6.7</td>\n",
              "      <td>3.0</td>\n",
              "      <td>5.2</td>\n",
              "      <td>2.3</td>\n",
              "      <td>virginica</td>\n",
              "    </tr>\n",
              "    <tr>\n",
              "      <th>146</th>\n",
              "      <td>6.3</td>\n",
              "      <td>2.5</td>\n",
              "      <td>5.0</td>\n",
              "      <td>1.9</td>\n",
              "      <td>virginica</td>\n",
              "    </tr>\n",
              "    <tr>\n",
              "      <th>147</th>\n",
              "      <td>6.5</td>\n",
              "      <td>3.0</td>\n",
              "      <td>5.2</td>\n",
              "      <td>2.0</td>\n",
              "      <td>virginica</td>\n",
              "    </tr>\n",
              "    <tr>\n",
              "      <th>148</th>\n",
              "      <td>6.2</td>\n",
              "      <td>3.4</td>\n",
              "      <td>5.4</td>\n",
              "      <td>2.3</td>\n",
              "      <td>virginica</td>\n",
              "    </tr>\n",
              "    <tr>\n",
              "      <th>149</th>\n",
              "      <td>5.9</td>\n",
              "      <td>3.0</td>\n",
              "      <td>5.1</td>\n",
              "      <td>1.8</td>\n",
              "      <td>virginica</td>\n",
              "    </tr>\n",
              "  </tbody>\n",
              "</table>\n",
              "</div>\n",
              "    <div class=\"colab-df-buttons\">\n",
              "\n",
              "  <div class=\"colab-df-container\">\n",
              "    <button class=\"colab-df-convert\" onclick=\"convertToInteractive('df-23eef438-4b02-41ab-94e1-e4ee8879f3b6')\"\n",
              "            title=\"Convert this dataframe to an interactive table.\"\n",
              "            style=\"display:none;\">\n",
              "\n",
              "  <svg xmlns=\"http://www.w3.org/2000/svg\" height=\"24px\" viewBox=\"0 -960 960 960\">\n",
              "    <path d=\"M120-120v-720h720v720H120Zm60-500h600v-160H180v160Zm220 220h160v-160H400v160Zm0 220h160v-160H400v160ZM180-400h160v-160H180v160Zm440 0h160v-160H620v160ZM180-180h160v-160H180v160Zm440 0h160v-160H620v160Z\"/>\n",
              "  </svg>\n",
              "    </button>\n",
              "\n",
              "  <style>\n",
              "    .colab-df-container {\n",
              "      display:flex;\n",
              "      gap: 12px;\n",
              "    }\n",
              "\n",
              "    .colab-df-convert {\n",
              "      background-color: #E8F0FE;\n",
              "      border: none;\n",
              "      border-radius: 50%;\n",
              "      cursor: pointer;\n",
              "      display: none;\n",
              "      fill: #1967D2;\n",
              "      height: 32px;\n",
              "      padding: 0 0 0 0;\n",
              "      width: 32px;\n",
              "    }\n",
              "\n",
              "    .colab-df-convert:hover {\n",
              "      background-color: #E2EBFA;\n",
              "      box-shadow: 0px 1px 2px rgba(60, 64, 67, 0.3), 0px 1px 3px 1px rgba(60, 64, 67, 0.15);\n",
              "      fill: #174EA6;\n",
              "    }\n",
              "\n",
              "    .colab-df-buttons div {\n",
              "      margin-bottom: 4px;\n",
              "    }\n",
              "\n",
              "    [theme=dark] .colab-df-convert {\n",
              "      background-color: #3B4455;\n",
              "      fill: #D2E3FC;\n",
              "    }\n",
              "\n",
              "    [theme=dark] .colab-df-convert:hover {\n",
              "      background-color: #434B5C;\n",
              "      box-shadow: 0px 1px 3px 1px rgba(0, 0, 0, 0.15);\n",
              "      filter: drop-shadow(0px 1px 2px rgba(0, 0, 0, 0.3));\n",
              "      fill: #FFFFFF;\n",
              "    }\n",
              "  </style>\n",
              "\n",
              "    <script>\n",
              "      const buttonEl =\n",
              "        document.querySelector('#df-23eef438-4b02-41ab-94e1-e4ee8879f3b6 button.colab-df-convert');\n",
              "      buttonEl.style.display =\n",
              "        google.colab.kernel.accessAllowed ? 'block' : 'none';\n",
              "\n",
              "      async function convertToInteractive(key) {\n",
              "        const element = document.querySelector('#df-23eef438-4b02-41ab-94e1-e4ee8879f3b6');\n",
              "        const dataTable =\n",
              "          await google.colab.kernel.invokeFunction('convertToInteractive',\n",
              "                                                    [key], {});\n",
              "        if (!dataTable) return;\n",
              "\n",
              "        const docLinkHtml = 'Like what you see? Visit the ' +\n",
              "          '<a target=\"_blank\" href=https://colab.research.google.com/notebooks/data_table.ipynb>data table notebook</a>'\n",
              "          + ' to learn more about interactive tables.';\n",
              "        element.innerHTML = '';\n",
              "        dataTable['output_type'] = 'display_data';\n",
              "        await google.colab.output.renderOutput(dataTable, element);\n",
              "        const docLink = document.createElement('div');\n",
              "        docLink.innerHTML = docLinkHtml;\n",
              "        element.appendChild(docLink);\n",
              "      }\n",
              "    </script>\n",
              "  </div>\n",
              "\n",
              "\n",
              "<div id=\"df-efa1c026-22ce-4c63-8b56-92cb07f490e6\">\n",
              "  <button class=\"colab-df-quickchart\" onclick=\"quickchart('df-efa1c026-22ce-4c63-8b56-92cb07f490e6')\"\n",
              "            title=\"Suggest charts\"\n",
              "            style=\"display:none;\">\n",
              "\n",
              "<svg xmlns=\"http://www.w3.org/2000/svg\" height=\"24px\"viewBox=\"0 0 24 24\"\n",
              "     width=\"24px\">\n",
              "    <g>\n",
              "        <path d=\"M19 3H5c-1.1 0-2 .9-2 2v14c0 1.1.9 2 2 2h14c1.1 0 2-.9 2-2V5c0-1.1-.9-2-2-2zM9 17H7v-7h2v7zm4 0h-2V7h2v10zm4 0h-2v-4h2v4z\"/>\n",
              "    </g>\n",
              "</svg>\n",
              "  </button>\n",
              "\n",
              "<style>\n",
              "  .colab-df-quickchart {\n",
              "      --bg-color: #E8F0FE;\n",
              "      --fill-color: #1967D2;\n",
              "      --hover-bg-color: #E2EBFA;\n",
              "      --hover-fill-color: #174EA6;\n",
              "      --disabled-fill-color: #AAA;\n",
              "      --disabled-bg-color: #DDD;\n",
              "  }\n",
              "\n",
              "  [theme=dark] .colab-df-quickchart {\n",
              "      --bg-color: #3B4455;\n",
              "      --fill-color: #D2E3FC;\n",
              "      --hover-bg-color: #434B5C;\n",
              "      --hover-fill-color: #FFFFFF;\n",
              "      --disabled-bg-color: #3B4455;\n",
              "      --disabled-fill-color: #666;\n",
              "  }\n",
              "\n",
              "  .colab-df-quickchart {\n",
              "    background-color: var(--bg-color);\n",
              "    border: none;\n",
              "    border-radius: 50%;\n",
              "    cursor: pointer;\n",
              "    display: none;\n",
              "    fill: var(--fill-color);\n",
              "    height: 32px;\n",
              "    padding: 0;\n",
              "    width: 32px;\n",
              "  }\n",
              "\n",
              "  .colab-df-quickchart:hover {\n",
              "    background-color: var(--hover-bg-color);\n",
              "    box-shadow: 0 1px 2px rgba(60, 64, 67, 0.3), 0 1px 3px 1px rgba(60, 64, 67, 0.15);\n",
              "    fill: var(--button-hover-fill-color);\n",
              "  }\n",
              "\n",
              "  .colab-df-quickchart-complete:disabled,\n",
              "  .colab-df-quickchart-complete:disabled:hover {\n",
              "    background-color: var(--disabled-bg-color);\n",
              "    fill: var(--disabled-fill-color);\n",
              "    box-shadow: none;\n",
              "  }\n",
              "\n",
              "  .colab-df-spinner {\n",
              "    border: 2px solid var(--fill-color);\n",
              "    border-color: transparent;\n",
              "    border-bottom-color: var(--fill-color);\n",
              "    animation:\n",
              "      spin 1s steps(1) infinite;\n",
              "  }\n",
              "\n",
              "  @keyframes spin {\n",
              "    0% {\n",
              "      border-color: transparent;\n",
              "      border-bottom-color: var(--fill-color);\n",
              "      border-left-color: var(--fill-color);\n",
              "    }\n",
              "    20% {\n",
              "      border-color: transparent;\n",
              "      border-left-color: var(--fill-color);\n",
              "      border-top-color: var(--fill-color);\n",
              "    }\n",
              "    30% {\n",
              "      border-color: transparent;\n",
              "      border-left-color: var(--fill-color);\n",
              "      border-top-color: var(--fill-color);\n",
              "      border-right-color: var(--fill-color);\n",
              "    }\n",
              "    40% {\n",
              "      border-color: transparent;\n",
              "      border-right-color: var(--fill-color);\n",
              "      border-top-color: var(--fill-color);\n",
              "    }\n",
              "    60% {\n",
              "      border-color: transparent;\n",
              "      border-right-color: var(--fill-color);\n",
              "    }\n",
              "    80% {\n",
              "      border-color: transparent;\n",
              "      border-right-color: var(--fill-color);\n",
              "      border-bottom-color: var(--fill-color);\n",
              "    }\n",
              "    90% {\n",
              "      border-color: transparent;\n",
              "      border-bottom-color: var(--fill-color);\n",
              "    }\n",
              "  }\n",
              "</style>\n",
              "\n",
              "  <script>\n",
              "    async function quickchart(key) {\n",
              "      const quickchartButtonEl =\n",
              "        document.querySelector('#' + key + ' button');\n",
              "      quickchartButtonEl.disabled = true;  // To prevent multiple clicks.\n",
              "      quickchartButtonEl.classList.add('colab-df-spinner');\n",
              "      try {\n",
              "        const charts = await google.colab.kernel.invokeFunction(\n",
              "            'suggestCharts', [key], {});\n",
              "      } catch (error) {\n",
              "        console.error('Error during call to suggestCharts:', error);\n",
              "      }\n",
              "      quickchartButtonEl.classList.remove('colab-df-spinner');\n",
              "      quickchartButtonEl.classList.add('colab-df-quickchart-complete');\n",
              "    }\n",
              "    (() => {\n",
              "      let quickchartButtonEl =\n",
              "        document.querySelector('#df-efa1c026-22ce-4c63-8b56-92cb07f490e6 button');\n",
              "      quickchartButtonEl.style.display =\n",
              "        google.colab.kernel.accessAllowed ? 'block' : 'none';\n",
              "    })();\n",
              "  </script>\n",
              "</div>\n",
              "\n",
              "    </div>\n",
              "  </div>\n"
            ],
            "application/vnd.google.colaboratory.intrinsic+json": {
              "type": "dataframe",
              "summary": "{\n  \"name\": \"df\",\n  \"rows\": 5,\n  \"fields\": [\n    {\n      \"column\": \"sepal_length\",\n      \"properties\": {\n        \"dtype\": \"number\",\n        \"std\": 0.30331501776206193,\n        \"min\": 5.9,\n        \"max\": 6.7,\n        \"num_unique_values\": 5,\n        \"samples\": [\n          6.3,\n          5.9,\n          6.5\n        ],\n        \"semantic_type\": \"\",\n        \"description\": \"\"\n      }\n    },\n    {\n      \"column\": \"sepal_width\",\n      \"properties\": {\n        \"dtype\": \"number\",\n        \"std\": 0.31937438845342625,\n        \"min\": 2.5,\n        \"max\": 3.4,\n        \"num_unique_values\": 3,\n        \"samples\": [\n          3.0,\n          2.5,\n          3.4\n        ],\n        \"semantic_type\": \"\",\n        \"description\": \"\"\n      }\n    },\n    {\n      \"column\": \"petal_length\",\n      \"properties\": {\n        \"dtype\": \"number\",\n        \"std\": 0.14832396974191348,\n        \"min\": 5.0,\n        \"max\": 5.4,\n        \"num_unique_values\": 4,\n        \"samples\": [\n          5.0,\n          5.1,\n          5.2\n        ],\n        \"semantic_type\": \"\",\n        \"description\": \"\"\n      }\n    },\n    {\n      \"column\": \"petal_width\",\n      \"properties\": {\n        \"dtype\": \"number\",\n        \"std\": 0.23021728866442667,\n        \"min\": 1.8,\n        \"max\": 2.3,\n        \"num_unique_values\": 4,\n        \"samples\": [\n          1.9,\n          1.8,\n          2.3\n        ],\n        \"semantic_type\": \"\",\n        \"description\": \"\"\n      }\n    },\n    {\n      \"column\": \"species\",\n      \"properties\": {\n        \"dtype\": \"category\",\n        \"num_unique_values\": 1,\n        \"samples\": [\n          \"virginica\"\n        ],\n        \"semantic_type\": \"\",\n        \"description\": \"\"\n      }\n    }\n  ]\n}"
            }
          },
          "metadata": {},
          "execution_count": 3
        }
      ]
    },
    {
      "cell_type": "code",
      "source": [
        "# 🐹 Save the DataFrame of titanic data to an updated excel (.xlxs) format\n",
        "df.head(150).to_excel(\"iris_sl_sw_pl_pw_sp_windex.xlsx\", index=True)\n",
        "df.head(150).to_excel(\"iris_sl_sw_pl_pw_sp_woindex.xlsx\", index=False)"
      ],
      "metadata": {
        "id": "cp1AhYyDoVlK"
      },
      "execution_count": 4,
      "outputs": []
    },
    {
      "cell_type": "code",
      "source": [
        "# 🐹 Save the DataFrame of titanic data to a csv format\n",
        "df.head(150).to_csv(\"iris_sl_sw_pl_pw_sp_windex.csv\", index=True)\n",
        "df.head(150).to_csv(\"iris_sl_sw_pl_pw_sp_woindex.csv\", index=False)"
      ],
      "metadata": {
        "id": "n8Z9sJISo5dW"
      },
      "execution_count": 5,
      "outputs": []
    },
    {
      "cell_type": "code",
      "source": [
        "df['species'].unique()\n",
        "# It returns an array containing unique values such as setosa, versicolor, and virginica from the 'species' column of the DataFrame df."
      ],
      "metadata": {
        "id": "PTcz1g2Fe_p2",
        "outputId": "d0238424-0dbe-45e9-89ff-1c19b11318e6",
        "colab": {
          "base_uri": "https://localhost:8080/"
        }
      },
      "execution_count": 6,
      "outputs": [
        {
          "output_type": "execute_result",
          "data": {
            "text/plain": [
              "array(['setosa', 'versicolor', 'virginica'], dtype=object)"
            ]
          },
          "metadata": {},
          "execution_count": 6
        }
      ]
    },
    {
      "cell_type": "code",
      "source": [
        "sns.pairplot(df, hue='species')\n",
        "# In the sns.pairplot() function from the Seaborn library, the hue parameter is used to specify a categorical variable\n",
        "#that will be used <to color the data points> in the pairplot.\n",
        "# Seaborn will create separate plots for each unique value in the 'species' column of your DataFrame, and the data points\n",
        "#in each plot will be colored differently based on their respective species. It is good for visualization."
      ],
      "metadata": {
        "id": "rgOdNlVsSM2D"
      },
      "execution_count": null,
      "outputs": []
    },
    {
      "cell_type": "markdown",
      "source": [
        "## <font color = 'orange'> ⬇️ **pyplot module of matplotlib library**\n",
        "\n",
        "Importing matplotlib.pyplot module provides a MATLAB-like plotting interface in Python for creating a variety of plots and visualizations.\n",
        "\n",
        "    We can then use the <functions and methods> provided by the pyplot module by prefixing them with plt,\n",
        "    which is a common alias for matplotlib.pyplot. This alias helps to make the code more concise and readable."
      ],
      "metadata": {
        "id": "Xe3A6ngnilZC"
      }
    },
    {
      "cell_type": "code",
      "source": [
        "!pip install matplotlib\n",
        "import matplotlib.pyplot as plt"
      ],
      "metadata": {
        "id": "W37IPczUjGKN"
      },
      "execution_count": 9,
      "outputs": []
    },
    {
      "cell_type": "code",
      "source": [
        "x = list(df['sepal_length'])\n",
        "y = list(df['sepal_width'])\n",
        "plt.scatter(x,y);\n",
        "plt.xlabel('sepal_length')\n",
        "plt.ylabel('sepal_width')"
      ],
      "metadata": {
        "id": "Sq2YuCWwkANk",
        "outputId": "83701823-11fc-4a49-a6f8-da8b1b21df77",
        "colab": {
          "base_uri": "https://localhost:8080/",
          "height": 470
        }
      },
      "execution_count": 10,
      "outputs": [
        {
          "output_type": "execute_result",
          "data": {
            "text/plain": [
              "Text(0, 0.5, 'sepal_width')"
            ]
          },
          "metadata": {},
          "execution_count": 10
        },
        {
          "output_type": "display_data",
          "data": {
            "text/plain": [
              "<Figure size 640x480 with 1 Axes>"
            ],
            "image/png": "[encoded data removed]"
          },
          "metadata": {}
        }
      ]
    },
    {
      "cell_type": "code",
      "source": [
        "# The function list(): It selects the 'sepal_length' column from the DataFrame df and converts it into a list named x.\n",
        "# Each element in the list corresponds to the value of 'sepal_length' for a particular row in the DataFrame.\n",
        "\n",
        "x = list(df['sepal_length']) # indexer []\n",
        "y = list(df['sepal_width'])\n",
        "\n",
        "import matplotlib.pyplot as plt\n",
        "\n",
        "plt.scatter(x, y);\n",
        "plt.xlabel('sepal_length')\n",
        "plt.ylabel('sepal_width')"
      ],
      "metadata": {
        "id": "3sJYzjGFSsA_",
        "outputId": "01174a24-41e3-473a-d0a0-590a9639057d",
        "colab": {
          "base_uri": "https://localhost:8080/",
          "height": 469
        }
      },
      "execution_count": null,
      "outputs": [
        {
          "output_type": "execute_result",
          "data": {
            "text/plain": [
              "Text(0, 0.5, 'sepal_width')"
            ]
          },
          "metadata": {},
          "execution_count": 12
        },
        {
          "output_type": "display_data",
          "data": {
            "text/plain": [
              "<Figure size 640x480 with 1 Axes>"
            ],
            "image/png": "[encoded data removed]"
          },
          "metadata": {}
        }
      ]
    },
    {
      "cell_type": "code",
      "source": [
        "df_setosa=df[df['species']=='setosa']\n",
        "x=list(df_setosa['sepal_length'])\n",
        "y=list(df_setoda['sepal_width'])\n",
        "plt.scatter(x,y);\n",
        "plt.xlabel('sepal_length')\n",
        "plt.ylabel('sepal_width')\n",
        "plt.title('setosa')"
      ],
      "metadata": {
        "id": "AOLR41rfl69P",
        "outputId": "00630424-55fb-4858-f5a4-53a884c7f005",
        "colab": {
          "base_uri": "https://localhost:8080/",
          "height": 490
        }
      },
      "execution_count": 12,
      "outputs": [
        {
          "output_type": "execute_result",
          "data": {
            "text/plain": [
              "Text(0.5, 1.0, 'setosa')"
            ]
          },
          "metadata": {},
          "execution_count": 12
        },
        {
          "output_type": "display_data",
          "data": {
            "text/plain": [
              "<Figure size 640x480 with 1 Axes>"
            ],
            "image/png": "[encoded data removed]"
          },
          "metadata": {}
        }
      ]
    },
    {
      "cell_type": "code",
      "source": [
        "df_setosa = df[df['species']=='setosa']\n",
        "#Step 1. df['species']=='setosa': It selects <the rows> in the DataFrame df where <the value in the 'species' column is equal to 'setosa'>.\n",
        "#Step 2. df[df['species']=='setosa']: This expression uses the previous Step #1 to filter the DataFrame df to create a new DataFrame df_setosa,\n",
        "# containing only the rows where the value in the 'species' column is 'setosa'.\n",
        "\n",
        "x = list(df_setosa['sepal_length'])\n",
        "y = list(df_setosa['sepal_width'])\n",
        "plt.scatter(x, y);\n",
        "plt.xlabel('sepal_length')\n",
        "plt.ylabel('sepal_width')\n",
        "plt.title('setosa')"
      ],
      "metadata": {
        "id": "c08GEKAMAaAN",
        "outputId": "9188d9dc-d6e7-4f09-aeb0-16f9270d50ed",
        "colab": {
          "base_uri": "https://localhost:8080/",
          "height": 489
        }
      },
      "execution_count": null,
      "outputs": [
        {
          "output_type": "execute_result",
          "data": {
            "text/plain": [
              "Text(0.5, 1.0, 'setosa')"
            ]
          },
          "metadata": {},
          "execution_count": 46
        },
        {
          "output_type": "display_data",
          "data": {
            "text/plain": [
              "<Figure size 640x480 with 1 Axes>"
            ],
            "image/png": "[encoded data removed]"
          },
          "metadata": {}
        }
      ]
    },
    {
      "cell_type": "markdown",
      "source": [
        "## 📈 **Supervised learning: regression (linear regression)**"
      ],
      "metadata": {
        "id": "o_R4225zNy9C"
      }
    },
    {
      "cell_type": "code",
      "source": [
        "!pip install Scikit-learn\n",
        "from sklearn.linear_model import LinearRegression"
      ],
      "metadata": {
        "id": "0dcvXvVUnhci",
        "outputId": "3ff340c5-422e-4716-e8e9-7410d7ad7454",
        "colab": {
          "base_uri": "https://localhost:8080/"
        }
      },
      "execution_count": 14,
      "outputs": [
        {
          "output_type": "stream",
          "name": "stdout",
          "text": [
            "Requirement already satisfied: Scikit-learn in /usr/local/lib/python3.10/dist-packages (1.2.2)\n",
            "Requirement already satisfied: numpy>=1.17.3 in /usr/local/lib/python3.10/dist-packages (from Scikit-learn) (1.25.2)\n",
            "Requirement already satisfied: scipy>=1.3.2 in /usr/local/lib/python3.10/dist-packages (from Scikit-learn) (1.11.4)\n",
            "Requirement already satisfied: joblib>=1.1.1 in /usr/local/lib/python3.10/dist-packages (from Scikit-learn) (1.4.2)\n",
            "Requirement already satisfied: threadpoolctl>=2.0.0 in /usr/local/lib/python3.10/dist-packages (from Scikit-learn) (3.5.0)\n"
          ]
        }
      ]
    },
    {
      "cell_type": "code",
      "source": [
        "!pip install Scikit-learn # Machine learning library\n",
        "\n",
        "# LinearRegression is a class, used for linear regression modeling in scikit-learn, within the sklearn.\n",
        "# linear_model module, which is part of the sklearn package.\n",
        "# Note that the sklearn is a shorthand alias for \"scikit-learn\" library.\n",
        "\n",
        "from sklearn.linear_model import LinearRegression"
      ],
      "metadata": {
        "id": "ziXdJ3kISvm9",
        "colab": {
          "base_uri": "https://localhost:8080/"
        },
        "outputId": "48043fd8-bb84-482f-da4b-c3ebc28c4ed5"
      },
      "execution_count": 13,
      "outputs": [
        {
          "output_type": "stream",
          "name": "stdout",
          "text": [
            "Requirement already satisfied: Scikit-learn in /usr/local/lib/python3.10/dist-packages (1.2.2)\n",
            "Requirement already satisfied: numpy>=1.17.3 in /usr/local/lib/python3.10/dist-packages (from Scikit-learn) (1.25.2)\n",
            "Requirement already satisfied: scipy>=1.3.2 in /usr/local/lib/python3.10/dist-packages (from Scikit-learn) (1.11.4)\n",
            "Requirement already satisfied: joblib>=1.1.1 in /usr/local/lib/python3.10/dist-packages (from Scikit-learn) (1.4.2)\n",
            "Requirement already satisfied: threadpoolctl>=2.0.0 in /usr/local/lib/python3.10/dist-packages (from Scikit-learn) (3.5.0)\n"
          ]
        }
      ]
    },
    {
      "cell_type": "markdown",
      "source": [
        "## 🐹🐾 **Class**\n",
        ">\n",
        "- In object-oriented programming, classes are used to create objects (instances) that encapsulate data and behavior.\n",
        "\n",
        "- **LinearRegression** is specifically a class that represents a linear regression model, which is a type of statistical model used for modeling the relationship between a dependent variable and one or more independent variables.\n",
        "\n",
        "    > LinearRegression은 특히 선형 회귀 모델을 나타내는 클래스로, 이는 종속 변수와 하나 이상의 독립 변수 간의 관계를 모델링하는 데 사용되는 통계 모델의 한 유형입니다.\n",
        "\n",
        "### 🆘 **Independent variable vs. Dependent variable**\n",
        "\n",
        "### Independent variable\n",
        "- hypothesized to have an effect on the dependent variable\n",
        "- sometimes referred to as predictor variables or explanatory variables\n",
        "\n",
        "### Dependent variable\n",
        "- an outcome or response variable that is being studied or predicted in an experiment or observational study\n",
        "- a variable that we are interested in understanding, explaining, or predicting based on the values of other variables\n",
        "\n",
        "| Example| Independent variable | Dependent variable |\n",
        "|:--:|:--:|:--:|\n",
        "|Iris data|various features of the iris plants, such as sepal length, sepal width |species of iris plant (setosa, versicolor, and virginica)|\n",
        "|Korean stops|VOT, f0| fortis (ㅃ, ㄸ, ㄲ), lenis (ㅂ, ㄷ, ㄱ), aspirated (ㅍ, ㅌ, ㅋ)|\n",
        "\n"
      ],
      "metadata": {
        "id": "tcfGRuBGfBKA"
      }
    },
    {
      "cell_type": "markdown",
      "source": [
        "## 🆘 **fit**\n",
        "y= ax + b (constants a or coefficients a & b) 모델 핏을 한다는 것은 데이터가 있을 때 기울기와 절편값을 구하는 것, y = ax + b 틀 자체를 모델이라고 한다. 핏을 실행시키면, 데이터를 틀에 관통시켜서 a와 b 변수값을 구해내는 것을 fit 이라고 한다.\n",
        "\n",
        "In statistics, \"fit\" refers to the process of estimating the parameters of a model to best represent the relationship between variables in the data. When we say \"fit intercept,\" it means determining whether or not to include an intercept term in the model and, if included, finding the best-fitting value for it\n",
        "\n",
        "    -\"fit\"은 통계학에서 모델의 매개변수(parameters; constants or coefficient 'a' and 'b' in linear eqution y = b + ax)를 추정하여\n",
        "    데이터의 변수 간 관계를 가장 잘 나타내는 과정을 의미한다.\n",
        "    \"fit intercept\"라고 할 때는 모델에 절편 항(b)을 포함할지 여부를 결정하고 (e.g., fit_intercept=True), 포함하는 경우 최적의 적합값을 찾는 것을 의미한다."
      ],
      "metadata": {
        "id": "Zfr5OudB0-Po"
      }
    },
    {
      "cell_type": "code",
      "source": [
        "model=LinearRegression(fit_intercept=True)"
      ],
      "metadata": {
        "id": "WPDlru39qfQl"
      },
      "execution_count": null,
      "outputs": []
    },
    {
      "cell_type": "code",
      "source": [
        "# LinearRegression() is a Class for linear regression modeling.\n",
        "# fit_intercetp = True: This is an argument passed to the LinearRegression constructor. When fit_intercept is set to True,\n",
        "# it allows the model to estimate an intercept term (or bias term) in addition to the coefficients for the features.\n",
        "#The model will try to find the best-fitting line that does not necessarily pass through the origin (0,0).\n",
        "\n",
        "model = LinearRegression(fit_intercept=True)"
      ],
      "metadata": {
        "id": "OlEh24crS0MS"
      },
      "execution_count": null,
      "outputs": []
    },
    {
      "cell_type": "code",
      "source": [
        "import numpy as np\n",
        "x=np.array(x)\n",
        "y=np.array(y)"
      ],
      "metadata": {
        "id": "j8vAl2Jmqm_z"
      },
      "execution_count": null,
      "outputs": []
    },
    {
      "cell_type": "code",
      "source": [
        "import numpy as np # The numpy package for numerical computing (large, multi-dimensional arrays and matrices, along with a collection of mathematical functions)\n",
        "x = np.array(x) # The np.array() function converts the variable x into a NumPy array. If x was originally a Python list, tuple, or any other iterable object, this function will create a new NumPy array containing the elements of x.\n",
        "y = np.array(y)\n",
        "\n",
        "# See an example of using np.array() function below ⬇️"
      ],
      "metadata": {
        "id": "fAuGerI0Dk6X"
      },
      "execution_count": null,
      "outputs": []
    },
    {
      "cell_type": "code",
      "source": [
        "x_list=[1,2,3,4,5]\n",
        "x_array=np.array(x_list)\n",
        "print(\"Original list:\", x_list)\n",
        "print(\"NumPy array:\", x_array)"
      ],
      "metadata": {
        "id": "iT2vZB4VqtfL"
      },
      "execution_count": null,
      "outputs": []
    },
    {
      "cell_type": "code",
      "source": [
        "#@markdown ### <font color = 'red'> **🐹🐾 [INSERTED] Exercise for np.array() function**\n",
        "\n",
        "x_list = [1, 2, 3, 4, 5] # Original data as a Python list\n",
        "\n",
        "# Convert the Python list to a NumPy array\n",
        "x_array = np.array(x_list)\n",
        "\n",
        "# Print the original list and the NumPy array\n",
        "print(\"Original list:\", x_list)\n",
        "print(\"NumPy array:\", x_array)"
      ],
      "metadata": {
        "colab": {
          "base_uri": "https://localhost:8080/"
        },
        "id": "XVdPm2MWCgjn",
        "outputId": "c84528a8-417b-41d1-9849-6c612180daa2"
      },
      "execution_count": null,
      "outputs": [
        {
          "output_type": "stream",
          "name": "stdout",
          "text": [
            "Original list: [1, 2, 3, 4, 5]\n",
            "NumPy array: [1 2 3 4 5]\n"
          ]
        }
      ]
    },
    {
      "cell_type": "markdown",
      "source": [
        "##⬇️ **reshape() in numpy (e.g., reshape(-1, 1))**  \n",
        "- **The -1 argument** in the reshape function indicates that NumPy should automatically calculate the size of this dimension based on the size of the original array and the other specified dimension. When -1 is used in one dimension, NumPy infers the size of that dimension to be whatever is needed to accommodate the remaining elements and maintain the total number of elements.\n",
        "\n",
        "-**The 1 argument** specifies the size of the second dimension of the reshaped array. In this case, 1 indicates that the second dimension should have a size of 1, effectively converting the 1-dimensional array x into a 2-dimensional array with a single column."
      ],
      "metadata": {
        "id": "be3800O_qmxT"
      }
    },
    {
      "cell_type": "code",
      "source": [
        "X=x.reshape(-1,1)\n",
        "X.shape"
      ],
      "metadata": {
        "id": "4e1nq1InsMOJ"
      },
      "execution_count": null,
      "outputs": []
    },
    {
      "cell_type": "code",
      "source": [
        "X = x.reshape(-1, 1) #1-D array converted to 2-D array\n",
        "X.shape"
      ],
      "metadata": {
        "id": "R5PRU9bKS6Ns",
        "outputId": "6d2c930f-20dd-485a-dcd2-428fbaaea5c2",
        "colab": {
          "base_uri": "https://localhost:8080/"
        }
      },
      "execution_count": null,
      "outputs": [
        {
          "output_type": "execute_result",
          "data": {
            "text/plain": [
              "(50, 1)"
            ]
          },
          "metadata": {},
          "execution_count": 51
        }
      ]
    },
    {
      "cell_type": "code",
      "source": [
        "x=np.array([1,2,3,4,5])\n",
        "X=x.reshape(=1,1)\n",
        "print(X)"
      ],
      "metadata": {
        "id": "t60wU_FHsgfF"
      },
      "execution_count": null,
      "outputs": []
    },
    {
      "cell_type": "code",
      "source": [
        "#@markdown ##<font color = 'red'> **🐹🐾 [INSERTED] reshape() function**\n",
        "\n",
        "import numpy as np\n",
        "\n",
        "# Original 1-dimensional array\n",
        "x = np.array([1, 2, 3, 4, 5])\n",
        "\n",
        "# Reshape the array to have one column and as many rows as needed (-1)\n",
        "X = x.reshape(-1, 1)\n",
        "#x is reshaped into a 2-dimensional array X with 5 rows and 1 column. The -1 argument allows NumPy to automatically determine the number of rows needed to maintain the total number of elements in the array.\n",
        "\n",
        "print(X)"
      ],
      "metadata": {
        "colab": {
          "base_uri": "https://localhost:8080/"
        },
        "id": "EylmP68DCSH3",
        "outputId": "cfcdcc81-1bfc-4ec3-d61d-2351a7a95224"
      },
      "execution_count": null,
      "outputs": [
        {
          "output_type": "stream",
          "name": "stdout",
          "text": [
            "[[1]\n",
            " [2]\n",
            " [3]\n",
            " [4]\n",
            " [5]]\n"
          ]
        }
      ]
    },
    {
      "cell_type": "code",
      "source": [
        "model.fit(X, y)"
      ],
      "metadata": {
        "id": "3VVxgdS0S-P1",
        "outputId": "c70c37a3-cce2-47b5-d6d1-3b89b3b1345d",
        "colab": {
          "base_uri": "https://localhost:8080/",
          "height": 75
        }
      },
      "execution_count": null,
      "outputs": [
        {
          "output_type": "execute_result",
          "data": {
            "text/plain": [
              "LinearRegression()"
            ],
            "text/html": [
              "<style>#sk-container-id-3 {color: black;background-color: white;}#sk-container-id-3 pre{padding: 0;}#sk-container-id-3 div.sk-toggleable {background-color: white;}#sk-container-id-3 label.sk-toggleable__label {cursor: pointer;display: block;width: 100%;margin-bottom: 0;padding: 0.3em;box-sizing: border-box;text-align: center;}#sk-container-id-3 label.sk-toggleable__label-arrow:before {content: \"▸\";float: left;margin-right: 0.25em;color: #696969;}#sk-container-id-3 label.sk-toggleable__label-arrow:hover:before {color: black;}#sk-container-id-3 div.sk-estimator:hover label.sk-toggleable__label-arrow:before {color: black;}#sk-container-id-3 div.sk-toggleable__content {max-height: 0;max-width: 0;overflow: hidden;text-align: left;background-color: #f0f8ff;}#sk-container-id-3 div.sk-toggleable__content pre {margin: 0.2em;color: black;border-radius: 0.25em;background-color: #f0f8ff;}#sk-container-id-3 input.sk-toggleable__control:checked~div.sk-toggleable__content {max-height: 200px;max-width: 100%;overflow: auto;}#sk-container-id-3 input.sk-toggleable__control:checked~label.sk-toggleable__label-arrow:before {content: \"▾\";}#sk-container-id-3 div.sk-estimator input.sk-toggleable__control:checked~label.sk-toggleable__label {background-color: #d4ebff;}#sk-container-id-3 div.sk-label input.sk-toggleable__control:checked~label.sk-toggleable__label {background-color: #d4ebff;}#sk-container-id-3 input.sk-hidden--visually {border: 0;clip: rect(1px 1px 1px 1px);clip: rect(1px, 1px, 1px, 1px);height: 1px;margin: -1px;overflow: hidden;padding: 0;position: absolute;width: 1px;}#sk-container-id-3 div.sk-estimator {font-family: monospace;background-color: #f0f8ff;border: 1px dotted black;border-radius: 0.25em;box-sizing: border-box;margin-bottom: 0.5em;}#sk-container-id-3 div.sk-estimator:hover {background-color: #d4ebff;}#sk-container-id-3 div.sk-parallel-item::after {content: \"\";width: 100%;border-bottom: 1px solid gray;flex-grow: 1;}#sk-container-id-3 div.sk-label:hover label.sk-toggleable__label {background-color: #d4ebff;}#sk-container-id-3 div.sk-serial::before {content: \"\";position: absolute;border-left: 1px solid gray;box-sizing: border-box;top: 0;bottom: 0;left: 50%;z-index: 0;}#sk-container-id-3 div.sk-serial {display: flex;flex-direction: column;align-items: center;background-color: white;padding-right: 0.2em;padding-left: 0.2em;position: relative;}#sk-container-id-3 div.sk-item {position: relative;z-index: 1;}#sk-container-id-3 div.sk-parallel {display: flex;align-items: stretch;justify-content: center;background-color: white;position: relative;}#sk-container-id-3 div.sk-item::before, #sk-container-id-3 div.sk-parallel-item::before {content: \"\";position: absolute;border-left: 1px solid gray;box-sizing: border-box;top: 0;bottom: 0;left: 50%;z-index: -1;}#sk-container-id-3 div.sk-parallel-item {display: flex;flex-direction: column;z-index: 1;position: relative;background-color: white;}#sk-container-id-3 div.sk-parallel-item:first-child::after {align-self: flex-end;width: 50%;}#sk-container-id-3 div.sk-parallel-item:last-child::after {align-self: flex-start;width: 50%;}#sk-container-id-3 div.sk-parallel-item:only-child::after {width: 0;}#sk-container-id-3 div.sk-dashed-wrapped {border: 1px dashed gray;margin: 0 0.4em 0.5em 0.4em;box-sizing: border-box;padding-bottom: 0.4em;background-color: white;}#sk-container-id-3 div.sk-label label {font-family: monospace;font-weight: bold;display: inline-block;line-height: 1.2em;}#sk-container-id-3 div.sk-label-container {text-align: center;}#sk-container-id-3 div.sk-container {/* jupyter's `normalize.less` sets `[hidden] { display: none; }` but bootstrap.min.css set `[hidden] { display: none !important; }` so we also need the `!important` here to be able to override the default hidden behavior on the sphinx rendered scikit-learn.org. See: https://github.com/scikit-learn/scikit-learn/issues/21755 */display: inline-block !important;position: relative;}#sk-container-id-3 div.sk-text-repr-fallback {display: none;}</style><div id=\"sk-container-id-3\" class=\"sk-top-container\"><div class=\"sk-text-repr-fallback\"><pre>LinearRegression()</pre><b>In a Jupyter environment, please rerun this cell to show the HTML representation or trust the notebook. <br />On GitHub, the HTML representation is unable to render, please try loading this page with nbviewer.org.</b></div><div class=\"sk-container\" hidden><div class=\"sk-item\"><div class=\"sk-estimator sk-toggleable\"><input class=\"sk-toggleable__control sk-hidden--visually\" id=\"sk-estimator-id-3\" type=\"checkbox\" checked><label for=\"sk-estimator-id-3\" class=\"sk-toggleable__label sk-toggleable__label-arrow\">LinearRegression</label><div class=\"sk-toggleable__content\"><pre>LinearRegression()</pre></div></div></div></div></div>"
            ]
          },
          "metadata": {},
          "execution_count": 52
        }
      ]
    },
    {
      "cell_type": "code",
      "source": [
        "model.coef_"
      ],
      "metadata": {
        "id": "A5EOsJApS_Sw",
        "outputId": "b15b5938-a77f-4f51-d322-ba47dd9351df",
        "colab": {
          "base_uri": "https://localhost:8080/"
        }
      },
      "execution_count": null,
      "outputs": [
        {
          "output_type": "execute_result",
          "data": {
            "text/plain": [
              "array([0.7985283])"
            ]
          },
          "metadata": {},
          "execution_count": 59
        }
      ]
    },
    {
      "cell_type": "code",
      "source": [
        "model.intercept_ #y=ax + b (b 절편값 intercept)"
      ],
      "metadata": {
        "id": "ZSEizxdHTBTB",
        "outputId": "29eb6415-29e7-46fe-97ad-236431461c27",
        "colab": {
          "base_uri": "https://localhost:8080/"
        }
      },
      "execution_count": null,
      "outputs": [
        {
          "output_type": "execute_result",
          "data": {
            "text/plain": [
              "-0.569432673039648"
            ]
          },
          "metadata": {},
          "execution_count": 54
        }
      ]
    },
    {
      "cell_type": "code",
      "source": [
        "xfit = np.linspace(4, 6) #1-D array를 4~6까지 50 개의 숫자로 만들어라 (a=시작수, b=끝수, default = 50\n",
        "xfit"
      ],
      "metadata": {
        "id": "KlzB5PjLTDNb",
        "outputId": "c69a9bac-ea29-413a-c6bd-91861ed52339",
        "colab": {
          "base_uri": "https://localhost:8080/"
        }
      },
      "execution_count": null,
      "outputs": [
        {
          "output_type": "execute_result",
          "data": {
            "text/plain": [
              "array([4.        , 4.04081633, 4.08163265, 4.12244898, 4.16326531,\n",
              "       4.20408163, 4.24489796, 4.28571429, 4.32653061, 4.36734694,\n",
              "       4.40816327, 4.44897959, 4.48979592, 4.53061224, 4.57142857,\n",
              "       4.6122449 , 4.65306122, 4.69387755, 4.73469388, 4.7755102 ,\n",
              "       4.81632653, 4.85714286, 4.89795918, 4.93877551, 4.97959184,\n",
              "       5.02040816, 5.06122449, 5.10204082, 5.14285714, 5.18367347,\n",
              "       5.2244898 , 5.26530612, 5.30612245, 5.34693878, 5.3877551 ,\n",
              "       5.42857143, 5.46938776, 5.51020408, 5.55102041, 5.59183673,\n",
              "       5.63265306, 5.67346939, 5.71428571, 5.75510204, 5.79591837,\n",
              "       5.83673469, 5.87755102, 5.91836735, 5.95918367, 6.        ])"
            ]
          },
          "metadata": {},
          "execution_count": 55
        }
      ]
    },
    {
      "cell_type": "code",
      "source": [
        "Xfit = xfit.reshape(-1, 1) # 1-D array converted to 2-D array\n",
        "yfit = model.predict(Xfit) #parameter 값이 정해진 모델 핏 한 것에 (y=ax+b (a=0.7, b=0.5)) x 값을 위에 나온 숫자 결과 (4~6까지의 50 개 숫자)를 넣으면, 결과적으로 50 개의 y 값이 출력된다. )"
      ],
      "metadata": {
        "id": "SoDllK4qTMnV"
      },
      "execution_count": null,
      "outputs": []
    },
    {
      "cell_type": "code",
      "source": [
        "plt.scatter(x, y) #데이터 점이 표시된다\n",
        "plt.plot(xfit, yfit) #선이 표시된다. 이 선은 기본값이 '-'이다. 세번째 인자에 '.'으로 변경 가능. regression 은 관통선, 즉 b값 절편값 (intercept)을 정하는 것이다"
      ],
      "metadata": {
        "id": "mXs8kB6CTOgX",
        "outputId": "9f9fd7db-43c3-4676-ffbb-582ca6343fd0",
        "colab": {
          "base_uri": "https://localhost:8080/",
          "height": 452
        }
      },
      "execution_count": null,
      "outputs": [
        {
          "output_type": "execute_result",
          "data": {
            "text/plain": [
              "[<matplotlib.lines.Line2D at 0x7ac3c20e7f70>]"
            ]
          },
          "metadata": {},
          "execution_count": 60
        },
        {
          "output_type": "display_data",
          "data": {
            "text/plain": [
              "<Figure size 640x480 with 1 Axes>"
            ],
            "image/png": "[encoded data removed]"
          },
          "metadata": {}
        }
      ]
    },
    {
      "cell_type": "code",
      "source": [
        "#All relevant codelines for 'Setosa' in one script for a reference\n",
        "\n",
        "import seaborn as sns\n",
        "import matplotlib.pyplot as plt\n",
        "\n",
        "df = sns.load_dataset('iris')\n",
        "x = list(df['sepal_length'])\n",
        "y = list(df['sepal_width'])\n",
        "\n",
        "df_setosa = df[df['species']=='setosa']\n",
        "#Step 1. df['species']=='setosa': It selects <the rows> in the DataFrame df where <the value in the 'species' column is equal to 'setosa'>.\n",
        "#Step 2. df[df['species']=='setosa']: This expression uses the previous Step #1 to filter the DataFrame df to create a new DataFrame df_setosa,\n",
        "# containing only the rows where the value in the 'species' column is 'setosa'.\n",
        "\n",
        "x = list(df_setosa['sepal_length'])\n",
        "y = list(df_setosa['sepal_width'])\n",
        "plt.scatter(x, y);\n",
        "plt.xlabel('sepal_length')\n",
        "plt.ylabel('sepal_width')\n",
        "plt.title('setosa')\n",
        "!pip install Scikit-learn # Machine learning library\n",
        "\n",
        "# LinearRegression is a class, used for linear regression modeling in scikit-learn, within the sklearn.\n",
        "# linear_model module, which is part of the sklearn package.\n",
        "# Note that the sklearn is a shorthand alias for \"scikit-learn\" library.\n",
        "\n",
        "from sklearn.linear_model import LinearRegression\n",
        "model = LinearRegression(fit_intercept=True)\n",
        "import numpy as np # The numpy package for numerical computing (large, multi-dimensional arrays and matrices, along with a collection of mathematical functions)\n",
        "x = np.array(x) # The np.array() function converts the variable x into a NumPy array. If x was originally a Python list, tuple, or any other iterable object, this function will create a new NumPy array containing the elements of x.\n",
        "y = np.array(y)\n",
        "X = x.reshape(-1, 1) #1-D array converted to 2-D array\n",
        "X.shape\n",
        "model.fit(X, y)\n",
        "model.coef_ #y=ax + b (a 상수 coefficient;) 모델 핏을 한다는 것은. 데이터가 있을 때 절편값을 구하는 것 Y=ax + b 틀 자체를 모델이라고 한다.  핏을 누르면, 데이터를 틀에 관통시켜서 a와 b 변수값을 구해내는 것을 fit 이라고 한다.\n",
        "model.intercept_ #y=ax + b (b 절편값 intercept)\n",
        "xfit = np.linspace(4, 6) #1-D array를 4~6까지 50 개의 숫자로 만들어라 (a=시작수, b=끝수, default = 50\n",
        "xfit\n",
        "Xfit = xfit.reshape(-1, 1) # 1-D array converted to 2-D array\n",
        "yfit = model.predict(Xfit)\n",
        "plt.scatter(x, y) #데이터 점이 표시된다\n",
        "plt.plot(xfit, yfit)"
      ],
      "metadata": {
        "colab": {
          "base_uri": "https://localhost:8080/",
          "height": 576
        },
        "id": "-iz1B1TxxYY0",
        "outputId": "8253f064-8d37-4320-ef44-49f64d001ffd"
      },
      "execution_count": null,
      "outputs": [
        {
          "output_type": "stream",
          "name": "stdout",
          "text": [
            "Requirement already satisfied: Scikit-learn in /usr/local/lib/python3.10/dist-packages (1.2.2)\n",
            "Requirement already satisfied: numpy>=1.17.3 in /usr/local/lib/python3.10/dist-packages (from Scikit-learn) (1.25.2)\n",
            "Requirement already satisfied: scipy>=1.3.2 in /usr/local/lib/python3.10/dist-packages (from Scikit-learn) (1.11.4)\n",
            "Requirement already satisfied: joblib>=1.1.1 in /usr/local/lib/python3.10/dist-packages (from Scikit-learn) (1.4.2)\n",
            "Requirement already satisfied: threadpoolctl>=2.0.0 in /usr/local/lib/python3.10/dist-packages (from Scikit-learn) (3.5.0)\n"
          ]
        },
        {
          "output_type": "execute_result",
          "data": {
            "text/plain": [
              "[<matplotlib.lines.Line2D at 0x7ccfa5735e10>]"
            ]
          },
          "metadata": {},
          "execution_count": 16
        },
        {
          "output_type": "display_data",
          "data": {
            "text/plain": [
              "<Figure size 640x480 with 1 Axes>"
            ],
            "image/png": "[encoded data removed]"
          },
          "metadata": {}
        }
      ]
    },
    {
      "cell_type": "markdown",
      "source": [
        "#**📎🔖: ✂️ 📌 ✏️Practice Makes Perfect.**\n",
        "## <font color = 'brown'> **i) 🌸 Versicolor**\n",
        ">\n",
        "##<font color = 'green'> **ii) 🌺 Virginica**"
      ],
      "metadata": {
        "id": "nmaYTscZvHKc"
      }
    },
    {
      "cell_type": "markdown",
      "source": [
        "⬇️ In computing, \"64-bit precision\" refers to the level of accuracy and range that can be represented by a numeric data type, particularly floating-point numbers. Here's what it means:\n",
        "\n",
        "**Precision**: A 64-bit floating-point number, often denoted as float64 or double (in some programming languages), uses 64 bits (or 8 bytes) of memory to store a single numerical value. This provides high precision, meaning that it can represent a wide range of values with a high degree of accuracy.\n",
        "\n",
        "**Range**: With 64 bits of precision, a floating-point number can represent a wide range of values, both very small and very large. It can handle numbers ranging from approximately\n",
        "10**-308 to 10**308 (positive or negative), depending on the specific implementation.\n",
        "\n",
        "**Accuracy**: The precision of a floating-point number determines the number of significant digits it can represent. With 64-bit precision, a floating-point number can typically represent approximately 15 to 17 significant decimal digits accurately.\n",
        "\n",
        "**64-bits & 8 bytes**: In the context of numeric data types, \"64-bit precision\" and \"8-byte precision\" are often used interchangeably because they refer to the same concept\n",
        "\n",
        "In summary, \"64-bit precision\" refers to the capability of a data type (such as float64 in Python's NumPy library) to represent numerical values with a high degree of precision, covering a wide range of values, from very small to very large, with a high level of accuracy."
      ],
      "metadata": {
        "id": "xCyGR4w1-ScE"
      }
    },
    {
      "cell_type": "code",
      "source": [
        "print(df_setosa.dtypes)\n",
        "print('\\n')\n",
        "\n",
        "#dtype: object in Python includes such as strings, lists, etc."
      ],
      "metadata": {
        "colab": {
          "base_uri": "https://localhost:8080/"
        },
        "id": "cgNKxX38LVN7",
        "outputId": "fac28dfe-b8e1-4aa7-c11a-c6a1dfa42d0d"
      },
      "execution_count": null,
      "outputs": [
        {
          "output_type": "stream",
          "name": "stdout",
          "text": [
            "sepal_length    float64\n",
            "sepal_width     float64\n",
            "petal_length    float64\n",
            "petal_width     float64\n",
            "species          object\n",
            "dtype: object\n",
            "\n",
            "\n"
          ]
        }
      ]
    },
    {
      "cell_type": "code",
      "source": [
        "#@markdown ##🌸 <font color = 'brown'> **Students' practice for writing a script for Versicolor**\n",
        "\n",
        "import seaborn as sns\n",
        "import matplotlib.pyplot as plt\n",
        "import numpy as np\n",
        "\n",
        "df = sns.load_dataset('iris')\n",
        "x = list(df['sepal_length'])\n",
        "y = list(df['sepal_width'])\n",
        "\n",
        "df_versicolor = df[df['species']=='versicolor']\n",
        "\n",
        "x = list(df_versicolor['sepal_length'])\n",
        "y = list(df_versicolor['sepal_width'])\n",
        "plt.scatter(x, y);# The symbol ; has no functional significance - it suppresses the output of the last line of code, preventing unnecessary output from being displayed\n",
        "plt.xlabel('sepal_length')\n",
        "plt.ylabel('sepal_width')\n",
        "plt.title('versicolor')\n",
        "\n",
        "!pip install Scikit-learn # Machine learning library\n",
        "from sklearn.linear_model import LinearRegression\n",
        "model = LinearRegression(fit_intercept=True)\n",
        "import numpy as np\n",
        "x = np.array(x)\n",
        "y = np.array(y)\n",
        "X = x.reshape(-1, 1) #1-D array converted to 2-D array\n",
        "X.shape\n",
        "model.fit(X, y)\n",
        "model.coef_ #y=ax +b (a 기울기값 slope)\n",
        "model.intercept_ #y=ax + b (b 절편값 intercept)\n",
        "xfit = np.linspace(4, 8, 50) #1-D array를 4~6까지 50 개의 숫자로 만들어라 (a=시작수, b=끝수, default = 50\n",
        "xfit\n",
        "Xfit = xfit.reshape(-1, 1) # 1-D array converted to 2-D array\n",
        "yfit = model.predict(Xfit)\n",
        "plt.scatter(x, y) #데이터 점이 표시된다\n",
        "plt.plot(xfit, yfit)"
      ],
      "metadata": {
        "colab": {
          "base_uri": "https://localhost:8080/",
          "height": 576
        },
        "id": "FP0u4ZLftp-G",
        "outputId": "fb4830dd-a92a-4684-ac38-80023a499d37"
      },
      "execution_count": null,
      "outputs": [
        {
          "output_type": "stream",
          "name": "stdout",
          "text": [
            "Requirement already satisfied: Scikit-learn in /usr/local/lib/python3.10/dist-packages (1.2.2)\n",
            "Requirement already satisfied: numpy>=1.17.3 in /usr/local/lib/python3.10/dist-packages (from Scikit-learn) (1.25.2)\n",
            "Requirement already satisfied: scipy>=1.3.2 in /usr/local/lib/python3.10/dist-packages (from Scikit-learn) (1.11.4)\n",
            "Requirement already satisfied: joblib>=1.1.1 in /usr/local/lib/python3.10/dist-packages (from Scikit-learn) (1.4.2)\n",
            "Requirement already satisfied: threadpoolctl>=2.0.0 in /usr/local/lib/python3.10/dist-packages (from Scikit-learn) (3.5.0)\n"
          ]
        },
        {
          "output_type": "execute_result",
          "data": {
            "text/plain": [
              "[<matplotlib.lines.Line2D at 0x7ccfa5c876a0>]"
            ]
          },
          "metadata": {},
          "execution_count": 20
        },
        {
          "output_type": "display_data",
          "data": {
            "text/plain": [
              "<Figure size 640x480 with 1 Axes>"
            ],
            "image/png": "[encoded data removed]"
          },
          "metadata": {}
        }
      ]
    },
    {
      "cell_type": "code",
      "source": [
        "#@markdown ##🌺 <font color = 'green'> **Students' practice for writing a script for Virginica**\n",
        "\n",
        "import seaborn as sns\n",
        "import matplotlib.pyplot as plt\n",
        "\n",
        "df = sns.load_dataset('iris')\n",
        "x = list(df['sepal_length'])\n",
        "y = list(df['sepal_width'])\n",
        "\n",
        "df_virginica = df[df['species']=='virginica']\n",
        "\n",
        "x = list(df_virginica['sepal_length'])\n",
        "y = list(df_virginica['sepal_width'])\n",
        "plt.scatter(x, y);\n",
        "plt.xlabel('sepal_length')\n",
        "plt.ylabel('sepal_width')\n",
        "plt.title('virginica')\n",
        "\n",
        "!pip install Scikit-learn # Machine learning library\n",
        "from sklearn.linear_model import LinearRegression\n",
        "model = LinearRegression(fit_intercept=True)\n",
        "import numpy as np\n",
        "x = np.array(x)\n",
        "y = np.array(y)\n",
        "X = x.reshape(-1, 1) #1-D array converted to 2-D array\n",
        "X.shape\n",
        "model.fit(X, y)\n",
        "model.coef_ #y=ax + b (a 상수 coefficient;) 모델 핏을 한다는 것은. 데이터가 있을 때 절편값을 구하는 것 Y=ax + b 틀 자체를 모델이라고 한다.  핏을 누르면, 데이터를 틀에 관통시켜서 a와 b 변수값을 구해내는 것을 fit 이라고 한다.\n",
        "model.intercept_ #y=ax + b (b 절편값 intercept)\n",
        "xfit = np.linspace(4, 8) #1-D array를 4~6까지 50 개의 숫자로 만들어라 (a=시작수, b=끝수, default = 50\n",
        "xfit\n",
        "Xfit = xfit.reshape(-1, 1) # 1-D array converted to 2-D array\n",
        "yfit = model.predict(Xfit)\n",
        "plt.scatter(x, y) #데이터 점이 표시된다\n",
        "plt.plot(xfit, yfit)"
      ],
      "metadata": {
        "colab": {
          "base_uri": "https://localhost:8080/",
          "height": 576
        },
        "id": "VE0ughWxuA3S",
        "outputId": "8d67d458-eba1-4790-8230-8d8ee43d8f4b"
      },
      "execution_count": null,
      "outputs": [
        {
          "output_type": "stream",
          "name": "stdout",
          "text": [
            "Requirement already satisfied: Scikit-learn in /usr/local/lib/python3.10/dist-packages (1.2.2)\n",
            "Requirement already satisfied: numpy>=1.17.3 in /usr/local/lib/python3.10/dist-packages (from Scikit-learn) (1.25.2)\n",
            "Requirement already satisfied: scipy>=1.3.2 in /usr/local/lib/python3.10/dist-packages (from Scikit-learn) (1.11.4)\n",
            "Requirement already satisfied: joblib>=1.1.1 in /usr/local/lib/python3.10/dist-packages (from Scikit-learn) (1.4.2)\n",
            "Requirement already satisfied: threadpoolctl>=2.0.0 in /usr/local/lib/python3.10/dist-packages (from Scikit-learn) (3.5.0)\n"
          ]
        },
        {
          "output_type": "execute_result",
          "data": {
            "text/plain": [
              "[<matplotlib.lines.Line2D at 0x7e5d77476e90>]"
            ]
          },
          "metadata": {},
          "execution_count": 5
        },
        {
          "output_type": "display_data",
          "data": {
            "text/plain": [
              "<Figure size 640x480 with 1 Axes>"
            ],
            "image/png": "[encoded data removed]"
          },
          "metadata": {}
        }
      ]
    },
    {
      "cell_type": "markdown",
      "source": [
        "### ⬇️ **correlation은 절편값에 데이터가 얼마나 근접하게 나오는 지 계산한 값. 1.0에 근접할수록 선에 붙어나오는 것이고 0에 근접할수록 선에서 멀리 떨어져 나옴**"
      ],
      "metadata": {
        "id": "XHufSVqkDkaJ"
      }
    },
    {
      "cell_type": "code",
      "source": [
        "numeric_columns = df_setosa.select_dtypes(include=[np.number])\n",
        "correlation_matrix = numeric_columns.corr()\n",
        "\n",
        "# Assuming you have already calculated the correlation matrix\n",
        "correlation_matrix = numeric_columns.corr()\n",
        "\n",
        "# Extract the correlation coefficient between 'sepal_length' and 'sepal_width'\n",
        "correlation_coefficient = correlation_matrix.loc['sepal_length', 'sepal_width']\n",
        "\n",
        "print(\"Correlation coefficient between 'sepal_length' and 'sepal_width':\", correlation_coefficient)"
      ],
      "metadata": {
        "colab": {
          "base_uri": "https://localhost:8080/"
        },
        "id": "fl_iwjWsLeRT",
        "outputId": "16c144ba-9d01-45b2-d5df-e81f578df259"
      },
      "execution_count": null,
      "outputs": [
        {
          "output_type": "stream",
          "name": "stdout",
          "text": [
            "Correlation coefficient between 'sepal_length' and 'sepal_width': 0.45722781639411325\n"
          ]
        }
      ]
    },
    {
      "cell_type": "code",
      "source": [
        "numeric_columns = df_versicolor.select_dtypes(include=[np.number])\n",
        "correlation_matrix = numeric_columns.corr()\n",
        "\n",
        "# Assuming you have already calculated the correlation matrix\n",
        "correlation_matrix = numeric_columns.corr()\n",
        "\n",
        "# Extract the correlation coefficient between 'sepal_length' and 'sepal_width'\n",
        "correlation_coefficient = correlation_matrix.loc['sepal_length', 'sepal_width']\n",
        "\n",
        "print(\"Correlation coefficient between 'sepal_length' and 'sepal_width':\", correlation_coefficient)"
      ],
      "metadata": {
        "colab": {
          "base_uri": "https://localhost:8080/"
        },
        "id": "qQBkz95WDHT_",
        "outputId": "8f687df9-5732-479f-a491-c483f42e82f4"
      },
      "execution_count": null,
      "outputs": [
        {
          "output_type": "stream",
          "name": "stdout",
          "text": [
            "Correlation coefficient between 'sepal_length' and 'sepal_width': 0.5259107172828247\n"
          ]
        }
      ]
    },
    {
      "cell_type": "code",
      "source": [
        "numeric_columns = df_virginica.select_dtypes(include=[np.number])\n",
        "correlation_matrix = numeric_columns.corr()\n",
        "\n",
        "# Assuming you have already calculated the correlation matrix\n",
        "correlation_matrix = numeric_columns.corr()\n",
        "\n",
        "# Extract the correlation coefficient between 'sepal_length' and 'sepal_width'\n",
        "correlation_coefficient = correlation_matrix.loc['sepal_length', 'sepal_width']\n",
        "\n",
        "print(\"Correlation coefficient between 'sepal_length' and 'sepal_width':\", correlation_coefficient)"
      ],
      "metadata": {
        "colab": {
          "base_uri": "https://localhost:8080/"
        },
        "id": "auZV894dDIor",
        "outputId": "d365d5c8-9cd5-434c-9201-fa864b5fa74c"
      },
      "execution_count": null,
      "outputs": [
        {
          "output_type": "stream",
          "name": "stdout",
          "text": [
            "Correlation coefficient between 'sepal_length' and 'sepal_width': 0.45722781639411325\n"
          ]
        }
      ]
    }
  ]
}